{
 "cells": [
  {
   "cell_type": "code",
   "execution_count": 1,
   "metadata": {},
   "outputs": [
    {
     "name": "stderr",
     "output_type": "stream",
     "text": [
      ""
     ]
    }
   ],
   "source": [
    "import os\n",
    "os.chdir('../')\n",
    "\n",
    "import transEHR\n",
    "from transEHR.utils import random_seed\n",
    "# set random seed\n",
    "random_seed(42)"
   ]
  },
  {
   "cell_type": "code",
   "execution_count": 2,
   "metadata": {},
   "outputs": [
    {
     "name": "stdout",
     "output_type": "stream",
     "text": [
      "########################################\n",
      "load from local data dir ./data/covid19/ for mortality_prediction task\n",
      "# data: 468, # feat: 4, # cate: 0,  # bin: 0, # numerical: 4\n"
     ]
    }
   ],
   "source": [
    "from transEHR.dataset import load_data\n",
    "# load dataset by passing data name and task name\n",
    "_, _, test_dataset, _, cat_cols, num_cols, bin_cols = transEHR.load_data('./data/covid19/', 'mortality_prediction')"
   ]
  },
  {
   "cell_type": "code",
   "execution_count": 3,
   "metadata": {},
   "outputs": [],
   "source": [
    "# build transEHR classifier model\n",
    "from transEHR.modeling_transtab import TransEHRClassifier\n",
    "\n",
    "model = TransEHRClassifier(\n",
    "        categorical_columns = cat_cols,\n",
    "        numerical_columns = num_cols,\n",
    "        binary_columns = bin_cols,\n",
    "        num_class=2,\n",
    "        hidden_dim=128,\n",
    "        num_layer=2,\n",
    "        num_attention_head=8,\n",
    "        hidden_dropout_prob=0,\n",
    "        ffn_dim=256,\n",
    "        activation='relu',\n",
    "        device='cuda:1',\n",
    "    )"
   ]
  },
  {
   "cell_type": "code",
   "execution_count": 5,
   "metadata": {},
   "outputs": [
    {
     "name": "stderr",
     "output_type": "stream",
     "text": [
      "2023-05-05 11:15:40.462 | INFO     | transEHR.modeling_transtab:load:807 - missing keys: []\n",
      "2023-05-05 11:15:40.463 | INFO     | transEHR.modeling_transtab:load:808 - unexpected keys: []\n",
      "2023-05-05 11:15:40.464 | INFO     | transEHR.modeling_transtab:load:809 - load model from ./covid_checkpoint/epoch_50/\n",
      "2023-05-05 11:15:40.488 | INFO     | transEHR.modeling_transtab:load:229 - load feature extractor from ./covid_checkpoint/epoch_50/extractor/extractor.json\n"
     ]
    },
    {
     "name": "stdout",
     "output_type": "stream",
     "text": [
      "\n"
     ]
    },
    {
     "name": "stderr",
     "output_type": "stream",
     "text": [
      "100%|██████████| 4/4 [00:02<00:00,  1.48it/s]"
     ]
    },
    {
     "name": "stdout",
     "output_type": "stream",
     "text": [
      "confusion matrix:\n",
      "[[88  9]\n",
      " [ 0 13]]\n",
      "accuracy = 0.918181836605072\n",
      "precision class 0 = 1.0\n",
      "precision class 1 = 0.5909090638160706\n",
      "recall class 0 = 0.907216489315033\n",
      "recall class 1 = 1.0\n",
      "AUC of ROC = 0.9904837430610627\n",
      "AUC of PRC = 0.848780919934766\n",
      "min(+P, Se) = 0.9285714285714286\n",
      "f1_score = 0.7428571492798478\n",
      "END Predict, cost time: 2.8 secs\n"
     ]
    },
    {
     "name": "stderr",
     "output_type": "stream",
     "text": [
      "\n"
     ]
    }
   ],
   "source": [
    "from transEHR.testing import Testing\n",
    "\n",
    "test = Testing(\n",
    "    model=model,\n",
    "    test_set_list=test_dataset,\n",
    "    ckpt_dir='./covid_checkpoint/epoch_50/',\n",
    "    batch_size=32,\n",
    "    num_workers=3,\n",
    ")\n",
    "\n",
    "test.predict()"
   ]
  }
 ],
 "metadata": {
  "kernelspec": {
   "display_name": "mimic_multitask",
   "language": "python",
   "name": "python3"
  },
  "language_info": {
   "codemirror_mode": {
    "name": "ipython",
    "version": 3
   },
   "file_extension": ".py",
   "mimetype": "text/x-python",
   "name": "python",
   "nbconvert_exporter": "python",
   "pygments_lexer": "ipython3",
   "version": "3.7.16"
  },
  "orig_nbformat": 4
 },
 "nbformat": 4,
 "nbformat_minor": 2
}
