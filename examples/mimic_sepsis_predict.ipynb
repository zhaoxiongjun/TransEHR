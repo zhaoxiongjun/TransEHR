{
 "cells": [
  {
   "cell_type": "code",
   "execution_count": 1,
   "metadata": {},
   "outputs": [
    {
     "name": "stderr",
     "output_type": "stream",
     "text": [
      ""
     ]
    }
   ],
   "source": [
    "import os\n",
    "os.chdir('../')\n",
    "\n",
    "import transEHR\n",
    "from transEHR.utils import random_seed\n",
    "# set random seed\n",
    "random_seed(42)"
   ]
  },
  {
   "cell_type": "code",
   "execution_count": 2,
   "metadata": {},
   "outputs": [
    {
     "name": "stdout",
     "output_type": "stream",
     "text": [
      "########################################\n",
      "load from local data dir ./data/mimic-iii/ for sepsis task\n",
      "# data: 27250, # feat: 19, # cate: 3,  # bin: 0, # numerical: 16\n"
     ]
    }
   ],
   "source": [
    "from transEHR.dataset import load_data\n",
    "\n",
    "_, _, test_dataset, _, cat_cols, num_cols, bin_cols = transEHR.load_data('./data/mimic-iii/', 'sepsis')"
   ]
  },
  {
   "cell_type": "code",
   "execution_count": 3,
   "metadata": {},
   "outputs": [],
   "source": [
    "# build BERT classifier model\n",
    "from transEHR.modeling_transtab import TransEHRClassifier\n",
    "\n",
    "model = TransEHRClassifier(\n",
    "        categorical_columns = cat_cols,\n",
    "        numerical_columns = num_cols,\n",
    "        binary_columns = bin_cols,\n",
    "        num_class=2,\n",
    "        hidden_dim=128,\n",
    "        num_layer=3,\n",
    "        num_attention_head=8,\n",
    "        hidden_dropout_prob=0,\n",
    "        ffn_dim=256,\n",
    "        activation='relu',\n",
    "        device='cuda:1',\n",
    "    )"
   ]
  },
  {
   "cell_type": "code",
   "execution_count": 5,
   "metadata": {},
   "outputs": [
    {
     "name": "stderr",
     "output_type": "stream",
     "text": [
      "2023-05-22 09:16:07.555 | INFO     | transEHR.modeling_transtab:load:812 - missing keys: []\n",
      "2023-05-22 09:16:07.557 | INFO     | transEHR.modeling_transtab:load:813 - unexpected keys: []\n",
      "2023-05-22 09:16:07.558 | INFO     | transEHR.modeling_transtab:load:814 - load model from ./sepsis_checkpoint/epoch_6/\n",
      "2023-05-22 09:16:07.593 | INFO     | transEHR.modeling_transtab:load:229 - load feature extractor from ./sepsis_checkpoint/epoch_6/extractor/extractor.json\n",
      "100%|██████████| 349/349 [10:35<00:00,  1.82s/it]"
     ]
    },
    {
     "name": "stdout",
     "output_type": "stream",
     "text": [
      "confusion matrix:\n",
      "[[2673    8]\n",
      " [  49   60]]\n",
      "accuracy = 0.9795699119567871\n",
      "precision class 0 = 0.9819985032081604\n",
      "precision class 1 = 0.8823529481887817\n",
      "recall class 0 = 0.9970160126686096\n",
      "recall class 1 = 0.5504587292671204\n",
      "AUC of ROC = 0.9727439781814946\n",
      "AUC of PRC = 0.8408114719967309\n",
      "min(+P, Se) = 0.7155963302752294\n",
      "f1_score = 0.677966085930478\n",
      "END Predict, cost time: 635.3 secs\n"
     ]
    },
    {
     "name": "stderr",
     "output_type": "stream",
     "text": [
      "\n"
     ]
    }
   ],
   "source": [
    "from transEHR.testing import Testing\n",
    "\n",
    "test = Testing(\n",
    "    model=model,\n",
    "    test_set_list=test_dataset,\n",
    "    ckpt_dir='./sepsis_checkpoint/epoch_6/',\n",
    "    batch_size=8,\n",
    "    num_workers=3,\n",
    ")\n",
    "\n",
    "test.predict()"
   ]
  },
  {
   "attachments": {},
   "cell_type": "markdown",
   "metadata": {},
   "source": [
    "### ZSL on physionet challenge 2019"
   ]
  },
  {
   "cell_type": "code",
   "execution_count": 7,
   "metadata": {},
   "outputs": [
    {
     "name": "stdout",
     "output_type": "stream",
     "text": [
      "########################################\n",
      "load from local data dir ./data/physionet_sepsis/ for binary_sepsis_predict task\n",
      "# data: 40336, # feat: 39, # cate: 3,  # bin: 0, # numerical: 36\n"
     ]
    }
   ],
   "source": [
    "_, _, test_dataset, _, cat_cols, num_cols, bin_cols = transEHR.load_data('./data/physionet_sepsis/', 'binary_sepsis_predict')"
   ]
  },
  {
   "cell_type": "code",
   "execution_count": 8,
   "metadata": {},
   "outputs": [
    {
     "name": "stderr",
     "output_type": "stream",
     "text": [
      "2023-05-22 09:42:29.976 | INFO     | transEHR.modeling_transtab:load:812 - missing keys: []\n",
      "2023-05-22 09:42:29.978 | INFO     | transEHR.modeling_transtab:load:813 - unexpected keys: []\n",
      "2023-05-22 09:42:29.979 | INFO     | transEHR.modeling_transtab:load:814 - load model from ./sepsis_checkpoint/epoch_6/\n",
      "2023-05-22 09:42:30.018 | INFO     | transEHR.modeling_transtab:load:229 - load feature extractor from ./sepsis_checkpoint/epoch_6/extractor/extractor.json\n",
      "100%|██████████| 518/518 [05:22<00:00,  1.61it/s]"
     ]
    },
    {
     "name": "stdout",
     "output_type": "stream",
     "text": [
      "confusion matrix:\n",
      "[[3731  103]\n",
      " [ 283   20]]\n",
      "accuracy = 0.9066956639289856\n",
      "precision class 0 = 0.9294967651367188\n",
      "precision class 1 = 0.16260161995887756\n",
      "recall class 0 = 0.9731351137161255\n",
      "recall class 1 = 0.066006600856781\n",
      "AUC of ROC = 0.6477384045133778\n",
      "AUC of PRC = 0.12095818894699423\n",
      "min(+P, Se) = 0.15822784810126583\n",
      "f1_score = 0.093896712804096\n",
      "END Predict, cost time: 322.8 secs\n"
     ]
    },
    {
     "name": "stderr",
     "output_type": "stream",
     "text": [
      "\n"
     ]
    }
   ],
   "source": [
    "test = Testing(\n",
    "    model=model,\n",
    "    test_set_list=test_dataset,\n",
    "    ckpt_dir='./sepsis_checkpoint/epoch_6/',\n",
    "    batch_size=8,\n",
    "    num_workers=3,\n",
    ")\n",
    "\n",
    "test.predict()"
   ]
  },
  {
   "attachments": {},
   "cell_type": "markdown",
   "metadata": {},
   "source": [
    "### Train Together"
   ]
  },
  {
   "cell_type": "code",
   "execution_count": 2,
   "metadata": {},
   "outputs": [
    {
     "name": "stdout",
     "output_type": "stream",
     "text": [
      "########################################\n",
      "load from local data dir ./data/mimic-iii/ for sepsis task\n",
      "# data: 27250, # feat: 49, # cate: 3,  # bin: 0, # numerical: 46\n",
      "########################################\n",
      "load from local data dir ./data/physionet_sepsis/ for binary_sepsis_predict task\n",
      "# data: 40336, # feat: 39, # cate: 3,  # bin: 0, # numerical: 36\n"
     ]
    }
   ],
   "source": [
    "_, _, test_dataset, _, cat_cols, num_cols, bin_cols = transEHR.load_data(['./data/mimic-iii/', './data/physionet_sepsis/'], ['sepsis', 'binary_sepsis_predict'])"
   ]
  }
 ],
 "metadata": {
  "kernelspec": {
   "display_name": "transEHR",
   "language": "python",
   "name": "transehr"
  },
  "language_info": {
   "codemirror_mode": {
    "name": "ipython",
    "version": 3
   },
   "file_extension": ".py",
   "mimetype": "text/x-python",
   "name": "python",
   "nbconvert_exporter": "python",
   "pygments_lexer": "ipython3",
   "version": "3.7.16"
  },
  "orig_nbformat": 4
 },
 "nbformat": 4,
 "nbformat_minor": 2
}
